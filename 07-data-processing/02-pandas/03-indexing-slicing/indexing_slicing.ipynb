{
 "cells": [
  {
   "cell_type": "markdown",
   "metadata": {},
   "source": [
    "# Indexing and slicing in Pandas:"
   ]
  },
  {
   "cell_type": "markdown",
   "metadata": {},
   "source": [
    "Pandas offers versatile indexing capabilities, allowing for both label-based and positional-based indexing. You can access individual elements using index labels or slices, similar to Python lists. Additionally, Pandas supports boolean indexing, where you can filter data based on conditional expressions, facilitating complex data selection operations."
   ]
  },
  {
   "cell_type": "markdown",
   "metadata": {},
   "source": [
    "# Example Usage:"
   ]
  },
  {
   "cell_type": "code",
   "execution_count": 3,
   "metadata": {},
   "source": [
    "import pandas as pd\n",
    "\n",
    "# Sample data\n",
    "data = {\n",
    "    'Name': ['Alice', 'Bob', 'Charlie', 'David', 'Emma'],\n",
    "    'Age': [25, 30, 35, 28, 32],\n",
    "    'City': ['London', 'New York', 'Paris', 'Paris', 'Sydney'],\n",
    "    'Salary': [60000, 75000, 80000, 70000, 65000]\n",
    "}"
   ],
   "outputs": []
  },
  {
   "cell_type": "code",
   "execution_count": 4,
   "metadata": {},
   "source": [
    "# Creating a DataFrame\n",
    "df = pd.DataFrame(data)\n"
   ],
   "outputs": []
  },
  {
   "cell_type": "markdown",
   "metadata": {},
   "source": [
    "**DataFrame Creation:** We create a Pandas DataFrame named 'df' from the provided dictionary 'data'. This DataFrame contains information about employees, including their names, ages, cities, and salaries."
   ]
  },
  {
   "cell_type": "code",
   "execution_count": 5,
   "metadata": {},
   "source": [
    "# Displaying the DataFrame\n",
    "df"
   ],
   "outputs": []
  },
  {
   "cell_type": "markdown",
   "metadata": {},
   "source": [
    "**Displaying the DataFrame:** We print the DataFrame to visualize its contents. This helps us understand the structure of the data and verify that it has been loaded correctly."
   ]
  },
  {
   "cell_type": "code",
   "execution_count": 6,
   "metadata": {},
   "source": [
    "# Indexing and Slicing\n",
    "print(\"Accessing data using index labels:\")\n",
    "df.loc[1:3, 'Name':'City']  # Using index labels for rows and columns"
   ],
   "outputs": []
  },
  {
   "cell_type": "markdown",
   "metadata": {},
   "source": [
    "**Indexing and Slicing:** Using index labels (loc): We use the loc accessor to access rows and columns using their index labels. For example, df.loc[1:3, 'Name':'City'] selects rows 1 to 3 and columns 'Name' to 'City'."
   ]
  },
  {
   "cell_type": "code",
   "execution_count": 7,
   "metadata": {},
   "source": [
    "print(\"Accessing data using integer positions:\")\n",
    "df.iloc[1:3, 0:3]  # Using integer positions for rows and columns\n"
   ],
   "outputs": []
  },
  {
   "cell_type": "markdown",
   "metadata": {},
   "source": [
    "We use the iloc accessor to access rows and columns using their integer positions. For example, df.iloc[1:3, 0:3] selects rows 1 to 2 and columns at integer positions 0 to 2."
   ]
  },
  {
   "cell_type": "code",
   "execution_count": 9,
   "metadata": {},
   "source": [
    "print(\"Boolean indexing:\")\n",
    "df.loc[1:3, [True, True, False, True]]  # Using boolean values for rows and/or columns"
   ],
   "outputs": []
  },
  {
   "cell_type": "markdown",
   "metadata": {},
   "source": [
    "We can also use booleans when indexing to hide or show rows or columns."
   ]
  },
  {
   "cell_type": "code",
   "execution_count": 10,
   "metadata": {},
   "source": [
    "print(\"Filtering:\")\n",
    "df[df['Salary'] > 70000]  # Filtering data based on a condition"
   ],
   "outputs": []
  },
  {
   "cell_type": "markdown",
   "metadata": {},
   "source": [
    "We demonstrate filtering the DataFrame based on a condition. In this case, we select rows where the 'Salary' column has a value greater than 70000 using df[df['Salary'] > 70000]. This operation returns a DataFrame containing only the rows that meet the specified condition."
   ]
  },
  {
   "cell_type": "markdown",
   "metadata": {},
   "source": [
    "# Assigment"
   ]
  },
  {
   "cell_type": "markdown",
   "metadata": {},
   "source": [
    "In this lab exercise, you will explore a dataset containing information about employees in a company using Pandas. You will perform various data manipulation and analysis tasks to gain insights into the employee data."
   ]
  },
  {
   "cell_type": "markdown",
   "metadata": {},
   "source": [
    "**Dataset:**\n",
    "You are provided with a dictionary containing employee information:"
   ]
  },
  {
   "cell_type": "code",
   "execution_count": 28,
   "metadata": {},
   "source": [
    "# Sample data\n",
    "data = {\n",
    "    'Name': ['Alice', 'Bob', 'Charlie', 'David', 'Emma'],\n",
    "    'Age': [25, 30, 35, 28, 32],\n",
    "    'City': ['London', 'New York', 'Paris', 'Paris', 'Sydney'],\n",
    "    'Salary': [60000, 75000, 80000, 70000, 65000]\n",
    "}"
   ],
   "outputs": []
  },
  {
   "cell_type": "markdown",
   "metadata": {},
   "source": [
    "## Tasks:\n",
    "\n",
    "**DataFrame Creation:**\n",
    "- Create a Pandas DataFrame named 'employees' from the provided dictionary 'data'.\n",
    "\n",
    "**Indexing and Slicing:**\n",
    "- Access the last 2 rows and the 'Name' and 'Salary' columns using both label-based and positional-based indexing.\n",
    "- Extract the data for employees with indices 0 to 2 and all columns using integer-based indexing.\n",
    "**Boolean Indexing:**\n",
    "- Filter the data to include only employees aged 30 or above."
   ]
  }
 ],
 "metadata": {
  "kernelspec": {
   "display_name": ".venv",
   "language": "python",
   "name": "python3"
  },
  "language_info": {
   "codemirror_mode": {
    "name": "ipython",
    "version": 3
   },
   "file_extension": ".py",
   "mimetype": "text/x-python",
   "name": "python",
   "nbconvert_exporter": "python",
   "pygments_lexer": "ipython3",
   "version": "3.9.1"
  },
  "orig_nbformat": 4
 },
 "nbformat": 4,
 "nbformat_minor": 2
}
