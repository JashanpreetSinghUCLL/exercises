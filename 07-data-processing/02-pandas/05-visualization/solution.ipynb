{
 "cells": [
  {
   "cell_type": "code",
   "execution_count": 7,
   "metadata": {},
   "outputs": [],
   "source": [
    "import pandas as pd\n",
    "\n",
    "# Sample data\n",
    "data = {\n",
    "    'Product_ID': [101, 102, 103, 104, 105],\n",
    "    'Product_Name': ['Laptop', 'Smartphone', 'Tablet', 'Headphones', 'Smartwatch'],\n",
    "    'Category': ['Electronics', 'Electronics', 'Electronics', 'Accessories', 'Electronics'],\n",
    "    'Price': [1200, 800, 400, 100, 300],\n",
    "    'Quantity_Sold': [50, 100, 80, 200, 120]\n",
    "}"
   ]
  },
  {
   "cell_type": "code",
   "execution_count": 8,
   "metadata": {},
   "outputs": [
    {
     "data": {
      "text/html": [
       "<div>\n",
       "<style scoped>\n",
       "    .dataframe tbody tr th:only-of-type {\n",
       "        vertical-align: middle;\n",
       "    }\n",
       "\n",
       "    .dataframe tbody tr th {\n",
       "        vertical-align: top;\n",
       "    }\n",
       "\n",
       "    .dataframe thead th {\n",
       "        text-align: right;\n",
       "    }\n",
       "</style>\n",
       "<table border=\"1\" class=\"dataframe\">\n",
       "  <thead>\n",
       "    <tr style=\"text-align: right;\">\n",
       "      <th></th>\n",
       "      <th>Product_ID</th>\n",
       "      <th>Product_Name</th>\n",
       "      <th>Category</th>\n",
       "      <th>Price</th>\n",
       "      <th>Quantity_Sold</th>\n",
       "    </tr>\n",
       "  </thead>\n",
       "  <tbody>\n",
       "    <tr>\n",
       "      <th>0</th>\n",
       "      <td>101</td>\n",
       "      <td>Laptop</td>\n",
       "      <td>Electronics</td>\n",
       "      <td>1200</td>\n",
       "      <td>50</td>\n",
       "    </tr>\n",
       "    <tr>\n",
       "      <th>1</th>\n",
       "      <td>102</td>\n",
       "      <td>Smartphone</td>\n",
       "      <td>Electronics</td>\n",
       "      <td>800</td>\n",
       "      <td>100</td>\n",
       "    </tr>\n",
       "    <tr>\n",
       "      <th>2</th>\n",
       "      <td>103</td>\n",
       "      <td>Tablet</td>\n",
       "      <td>Electronics</td>\n",
       "      <td>400</td>\n",
       "      <td>80</td>\n",
       "    </tr>\n",
       "    <tr>\n",
       "      <th>3</th>\n",
       "      <td>104</td>\n",
       "      <td>Headphones</td>\n",
       "      <td>Accessories</td>\n",
       "      <td>100</td>\n",
       "      <td>200</td>\n",
       "    </tr>\n",
       "    <tr>\n",
       "      <th>4</th>\n",
       "      <td>105</td>\n",
       "      <td>Smartwatch</td>\n",
       "      <td>Electronics</td>\n",
       "      <td>300</td>\n",
       "      <td>120</td>\n",
       "    </tr>\n",
       "  </tbody>\n",
       "</table>\n",
       "</div>"
      ],
      "text/plain": [
       "   Product_ID Product_Name     Category  Price  Quantity_Sold\n",
       "0         101       Laptop  Electronics   1200             50\n",
       "1         102   Smartphone  Electronics    800            100\n",
       "2         103       Tablet  Electronics    400             80\n",
       "3         104   Headphones  Accessories    100            200\n",
       "4         105   Smartwatch  Electronics    300            120"
      ]
     },
     "execution_count": 8,
     "metadata": {},
     "output_type": "execute_result"
    }
   ],
   "source": [
    "# Task 1: DataFrame Creation\n",
    "products = pd.DataFrame(data)\n",
    "\n",
    "# Displaying the DataFrame\n",
    "products"
   ]
  },
  {
   "cell_type": "code",
   "execution_count": 5,
   "metadata": {},
   "outputs": [
    {
     "ename": "NameError",
     "evalue": "name 'employees' is not defined",
     "output_type": "error",
     "traceback": [
      "\u001b[0;31m---------------------------------------------------------------------------\u001b[0m",
      "\u001b[0;31mNameError\u001b[0m                                 Traceback (most recent call last)",
      "Cell \u001b[0;32mIn[5], line 2\u001b[0m\n\u001b[1;32m      1\u001b[0m \u001b[38;5;66;03m# Task 2: Indexing and Slicing\u001b[39;00m\n\u001b[0;32m----> 2\u001b[0m \u001b[38;5;28mprint\u001b[39m(\u001b[43memployees\u001b[49m\u001b[38;5;241m.\u001b[39mloc[\u001b[38;5;241m3\u001b[39m:\u001b[38;5;241m4\u001b[39m, [\u001b[38;5;124m'\u001b[39m\u001b[38;5;124mName\u001b[39m\u001b[38;5;124m'\u001b[39m, \u001b[38;5;124m'\u001b[39m\u001b[38;5;124mSalary\u001b[39m\u001b[38;5;124m'\u001b[39m]])  \u001b[38;5;66;03m# Using index labels for rows and column names\u001b[39;00m\n",
      "\u001b[0;31mNameError\u001b[0m: name 'employees' is not defined"
     ]
    }
   ],
   "source": [
    "# Task 2: Indexing and Slicing\n",
    "print(employees.loc[3:4, ['Name', 'Salary']])  # Using index labels for rows and column names"
   ]
  },
  {
   "cell_type": "code",
   "execution_count": 4,
   "metadata": {},
   "outputs": [
    {
     "name": "stdout",
     "output_type": "stream",
     "text": [
      "Using positional-based indexing:\n",
      "    Name  Salary\n",
      "3  David   70000\n",
      "4   Emma   65000\n",
      "\n"
     ]
    }
   ],
   "source": [
    "# Using positional-based indexing\n",
    "print(employees.iloc[3:5, [0, 3]])  # Using integer positions for rows and column positions"
   ]
  },
  {
   "cell_type": "code",
   "execution_count": 1,
   "metadata": {},
   "outputs": [
    {
     "ename": "NameError",
     "evalue": "name 'employees' is not defined",
     "output_type": "error",
     "traceback": [
      "\u001b[0;31m---------------------------------------------------------------------------\u001b[0m",
      "\u001b[0;31mNameError\u001b[0m                                 Traceback (most recent call last)",
      "Cell \u001b[0;32mIn[1], line 2\u001b[0m\n\u001b[1;32m      1\u001b[0m \u001b[38;5;66;03m# Task 3: Boolean Indexing\u001b[39;00m\n\u001b[0;32m----> 2\u001b[0m \u001b[38;5;28mprint\u001b[39m(\u001b[43memployees\u001b[49m[employees[\u001b[38;5;124m'\u001b[39m\u001b[38;5;124mAge\u001b[39m\u001b[38;5;124m'\u001b[39m] \u001b[38;5;241m>\u001b[39m\u001b[38;5;241m=\u001b[39m \u001b[38;5;241m30\u001b[39m])  \u001b[38;5;66;03m# Filtering data based on age\u001b[39;00m\n",
      "\u001b[0;31mNameError\u001b[0m: name 'employees' is not defined"
     ]
    }
   ],
   "source": [
    "# Task 3: Boolean Indexing\n",
    "print(employees[employees['Age'] >= 30])  # Filtering data based on age"
   ]
  }
 ],
 "metadata": {
  "kernelspec": {
   "display_name": "Python 3",
   "language": "python",
   "name": "python3"
  },
  "language_info": {
   "codemirror_mode": {
    "name": "ipython",
    "version": 3
   },
   "file_extension": ".py",
   "mimetype": "text/x-python",
   "name": "python",
   "nbconvert_exporter": "python",
   "pygments_lexer": "ipython3",
   "version": "3.11.5"
  },
  "orig_nbformat": 4
 },
 "nbformat": 4,
 "nbformat_minor": 2
}
