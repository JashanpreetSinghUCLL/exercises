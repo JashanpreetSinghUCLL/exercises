{
 "cells": [
  {
   "cell_type": "markdown",
   "metadata": {},
   "source": [
    "# DataFrame in Pandas:"
   ]
  },
  {
   "cell_type": "markdown",
   "metadata": {},
   "source": [
    "A DataFrame in Pandas is a two-dimensional labeled data structure that resembles a table or spreadsheet. It consists of rows and columns, where each column can contain different data types (e.g., integers, floats, strings) and is identified by a unique label. DataFrames are highly versatile and widely used for data manipulation, analysis, and visualization tasks in Python."
   ]
  },
  {
   "cell_type": "markdown",
   "metadata": {},
   "source": [
    "# Example Usage:"
   ]
  },
  {
   "cell_type": "code",
   "execution_count": 1,
   "metadata": {},
   "source": [
    "import pandas as pd\n",
    "\n",
    "# Sample data for DataFrame\n",
    "data = {\n",
    "    'Name': ['Alice', 'Bob', 'Charlie', 'David', 'Emma'],\n",
    "    'Age': [25, 30, 35, 28, 32],\n",
    "    'City': ['London', 'New York', 'Paris', 'Paris', 'Sydney'],\n",
    "    'Salary': [60000, 75000, 80000, 70000, 65000]\n",
    "}\n",
    "\n"
   ],
   "outputs": []
  },
  {
   "cell_type": "code",
   "execution_count": 2,
   "metadata": {},
   "source": [
    "# Creating a DataFrame\n",
    "df = pd.DataFrame(data)\n",
    "\n",
    "# Displaying the DataFrame\n",
    "df"
   ],
   "outputs": []
  },
  {
   "cell_type": "markdown",
   "metadata": {},
   "source": [
    "**DataFrame Creation:** We create a DataFrame 'df' from the dictionary 'data', containing information about individuals' names, ages, cities, and salaries."
   ]
  },
  {
   "cell_type": "code",
   "execution_count": 3,
   "metadata": {},
   "source": [
    "# Basic DataFrame Information\n",
    "df.info()"
   ],
   "outputs": []
  },
  {
   "cell_type": "markdown",
   "metadata": {},
   "source": [
    "**DataFrame Information:** We use the info() method to display information about the DataFrame, including the data types of each column and memory usage."
   ]
  },
  {
   "cell_type": "code",
   "execution_count": 4,
   "metadata": {},
   "source": [
    "df.describe()"
   ],
   "outputs": []
  },
  {
   "cell_type": "markdown",
   "metadata": {},
   "source": [
    "**Summary Statistics:** The describe() method generates summary statistics (count, mean, std, min, 25%, 50%, 75%, max) for numeric columns in the DataFrame."
   ]
  },
  {
   "cell_type": "code",
   "execution_count": 5,
   "metadata": {},
   "source": [
    "filtered_df = df[df['Salary'] > 70000]\n",
    "filtered_df"
   ],
   "outputs": []
  },
  {
   "cell_type": "markdown",
   "metadata": {},
   "source": [
    "**Filtering Data:** We filter the DataFrame to include only rows where the salary is greater than 70000."
   ]
  },
  {
   "cell_type": "code",
   "execution_count": 6,
   "metadata": {},
   "source": [
    "df['Experience'] = [3, 5, 7, 4, 6]\n",
    "\n",
    "df"
   ],
   "outputs": []
  },
  {
   "cell_type": "markdown",
   "metadata": {},
   "source": [
    "**Adding a New Column:** We add a new column 'Experience' to the DataFrame, representing the number of years of work experience for each individual."
   ]
  },
  {
   "cell_type": "code",
   "execution_count": 7,
   "metadata": {},
   "source": [
    "avg_salary_by_city = df.groupby('City')['Salary'].mean()\n",
    "avg_salary_by_city"
   ],
   "outputs": []
  },
  {
   "cell_type": "markdown",
   "metadata": {},
   "source": [
    "**Grouping and Aggregation:** We group the DataFrame by the 'City' column and calculate the average salary for each city using the groupby() and mean() methods."
   ]
  },
  {
   "cell_type": "markdown",
   "metadata": {},
   "source": [
    "Understanding DataFrames is crucial for conducting data analysis and manipulation tasks efficiently in Pandas. They serve as the backbone of many data-related operations, enabling users to work with structured datasets seamlessly."
   ]
  },
  {
   "cell_type": "markdown",
   "metadata": {},
   "source": [
    "# Assigment"
   ]
  },
  {
   "cell_type": "markdown",
   "metadata": {},
   "source": [
    "In this lab exercise, you will explore a dataset containing information about employees in a company using Pandas. You will perform various data manipulation and analysis tasks to gain insights into the employee data."
   ]
  },
  {
   "cell_type": "markdown",
   "metadata": {},
   "source": [
    "**Dataset:**\n",
    "You are provided with a dictionary containing employee information:"
   ]
  },
  {
   "cell_type": "code",
   "execution_count": 8,
   "metadata": {},
   "source": [
    "data = {\n",
    "    'EmployeeID': [101, 102, 103, 104, 105],\n",
    "    'Name': ['Alice', 'Bob', 'Charlie', 'David', 'Emma'],\n",
    "    'Department': ['HR', 'IT', 'Finance', 'Marketing', 'Sales'],\n",
    "    'Salary': [60000, 75000, 80000, 70000, 65000]\n",
    "}"
   ],
   "outputs": []
  },
  {
   "cell_type": "markdown",
   "metadata": {},
   "source": [
    "## Tasks:\n",
    "\n",
    "**DataFrame Creation:**\n",
    "- Create a Pandas DataFrame named 'employees' from the provided dictionary 'data'.\n",
    "\n",
    "**Data Exploration:**\n",
    "- Display the first 3 rows of the DataFrame to get an overview of the data. (use the head() methode for this)\n",
    "- Check the summary statistics for the 'Salary' column. (use the describe() methode for this)\n",
    "- Determine the number of employees in each department.\n",
    "\n",
    "**Data Analysis:**\n",
    "- Calculate and display the average salary of employees.\n",
    "- Identify the employee(s) with the highest salary and their details.\n",
    "- Determine the department with the lowest average salary.\n",
    "- Add a new column 'Salary Increase' to the DataFrame, where each employee's salary is increased by 10%."
   ]
  }
 ],
 "metadata": {
  "kernelspec": {
   "display_name": ".venv",
   "language": "python",
   "name": "python3"
  },
  "language_info": {
   "codemirror_mode": {
    "name": "ipython",
    "version": 3
   },
   "file_extension": ".py",
   "mimetype": "text/x-python",
   "name": "python",
   "nbconvert_exporter": "python",
   "pygments_lexer": "ipython3",
   "version": "3.9.1"
  },
  "orig_nbformat": 4
 },
 "nbformat": 4,
 "nbformat_minor": 2
}
